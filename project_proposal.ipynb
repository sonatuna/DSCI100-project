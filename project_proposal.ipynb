{
 "cells": [
  {
   "cell_type": "markdown",
   "id": "ce0295df-d8da-4a8a-9047-eb90d996ae3e",
   "metadata": {},
   "source": [
    "project proposal"
   ]
  }
 ],
 "metadata": {
  "kernelspec": {
   "display_name": "R",
   "language": "R",
   "name": "ir"
  },
  "language_info": {
   "codemirror_mode": "r",
   "file_extension": ".r",
   "mimetype": "text/x-r-source",
   "name": "R",
   "pygments_lexer": "r",
   "version": "4.1.3"
  }
 },
 "nbformat": 4,
 "nbformat_minor": 5
}
