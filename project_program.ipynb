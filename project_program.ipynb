{
 "cells": [
  {
   "cell_type": "markdown",
   "id": "4e37fdc9-7984-4b00-a0f4-dbf11565c058",
   "metadata": {},
   "source": [
    "**INTRO PLUS TITLE**"
   ]
  },
  {
   "cell_type": "code",
   "execution_count": 1,
   "id": "67070aa6-c494-49a2-a050-12da5f228031",
   "metadata": {},
   "outputs": [
    {
     "name": "stderr",
     "output_type": "stream",
     "text": [
      "── \u001b[1mAttaching packages\u001b[22m ─────────────────────────────────────── tidyverse 1.3.1 ──\n",
      "\n",
      "\u001b[32m✔\u001b[39m \u001b[34mggplot2\u001b[39m 3.3.6     \u001b[32m✔\u001b[39m \u001b[34mpurrr  \u001b[39m 0.3.4\n",
      "\u001b[32m✔\u001b[39m \u001b[34mtibble \u001b[39m 3.1.7     \u001b[32m✔\u001b[39m \u001b[34mdplyr  \u001b[39m 1.0.9\n",
      "\u001b[32m✔\u001b[39m \u001b[34mtidyr  \u001b[39m 1.2.0     \u001b[32m✔\u001b[39m \u001b[34mstringr\u001b[39m 1.4.0\n",
      "\u001b[32m✔\u001b[39m \u001b[34mreadr  \u001b[39m 2.1.2     \u001b[32m✔\u001b[39m \u001b[34mforcats\u001b[39m 0.5.1\n",
      "\n",
      "── \u001b[1mConflicts\u001b[22m ────────────────────────────────────────── tidyverse_conflicts() ──\n",
      "\u001b[31m✖\u001b[39m \u001b[34mdplyr\u001b[39m::\u001b[32mfilter()\u001b[39m masks \u001b[34mstats\u001b[39m::filter()\n",
      "\u001b[31m✖\u001b[39m \u001b[34mdplyr\u001b[39m::\u001b[32mlag()\u001b[39m    masks \u001b[34mstats\u001b[39m::lag()\n",
      "\n",
      "── \u001b[1mAttaching packages\u001b[22m ────────────────────────────────────── tidymodels 1.0.0 ──\n",
      "\n",
      "\u001b[32m✔\u001b[39m \u001b[34mbroom       \u001b[39m 1.0.0     \u001b[32m✔\u001b[39m \u001b[34mrsample     \u001b[39m 1.0.0\n",
      "\u001b[32m✔\u001b[39m \u001b[34mdials       \u001b[39m 1.0.0     \u001b[32m✔\u001b[39m \u001b[34mtune        \u001b[39m 1.0.0\n",
      "\u001b[32m✔\u001b[39m \u001b[34minfer       \u001b[39m 1.0.2     \u001b[32m✔\u001b[39m \u001b[34mworkflows   \u001b[39m 1.0.0\n",
      "\u001b[32m✔\u001b[39m \u001b[34mmodeldata   \u001b[39m 1.0.0     \u001b[32m✔\u001b[39m \u001b[34mworkflowsets\u001b[39m 1.0.0\n",
      "\u001b[32m✔\u001b[39m \u001b[34mparsnip     \u001b[39m 1.0.0     \u001b[32m✔\u001b[39m \u001b[34myardstick   \u001b[39m 1.0.0\n",
      "\u001b[32m✔\u001b[39m \u001b[34mrecipes     \u001b[39m 1.0.1     \n",
      "\n",
      "── \u001b[1mConflicts\u001b[22m ───────────────────────────────────────── tidymodels_conflicts() ──\n",
      "\u001b[31m✖\u001b[39m \u001b[34mscales\u001b[39m::\u001b[32mdiscard()\u001b[39m masks \u001b[34mpurrr\u001b[39m::discard()\n",
      "\u001b[31m✖\u001b[39m \u001b[34mdplyr\u001b[39m::\u001b[32mfilter()\u001b[39m   masks \u001b[34mstats\u001b[39m::filter()\n",
      "\u001b[31m✖\u001b[39m \u001b[34mrecipes\u001b[39m::\u001b[32mfixed()\u001b[39m  masks \u001b[34mstringr\u001b[39m::fixed()\n",
      "\u001b[31m✖\u001b[39m \u001b[34mdplyr\u001b[39m::\u001b[32mlag()\u001b[39m      masks \u001b[34mstats\u001b[39m::lag()\n",
      "\u001b[31m✖\u001b[39m \u001b[34myardstick\u001b[39m::\u001b[32mspec()\u001b[39m masks \u001b[34mreadr\u001b[39m::spec()\n",
      "\u001b[31m✖\u001b[39m \u001b[34mrecipes\u001b[39m::\u001b[32mstep()\u001b[39m   masks \u001b[34mstats\u001b[39m::step()\n",
      "\u001b[34m•\u001b[39m Use \u001b[32mtidymodels_prefer()\u001b[39m to resolve common conflicts.\n",
      "\n"
     ]
    }
   ],
   "source": [
    "library(tidyverse)\n",
    "library(tidymodels)\n",
    "library(repr)\n",
    "library(broom)"
   ]
  },
  {
   "cell_type": "markdown",
   "id": "8c88f78a-e6e8-4db0-990e-9e6575b466d8",
   "metadata": {},
   "source": [
    "**PREAMBLE FOR WHAT OUR CODING IS ABOUT**"
   ]
  },
  {
   "cell_type": "code",
   "execution_count": 2,
   "id": "5e56552f-e5ca-4fe4-ae05-10a78b1bc62c",
   "metadata": {},
   "outputs": [
    {
     "name": "stderr",
     "output_type": "stream",
     "text": [
      "\u001b[1mRows: \u001b[22m\u001b[34m400\u001b[39m \u001b[1mColumns: \u001b[22m\u001b[34m51\u001b[39m\n",
      "\u001b[36m──\u001b[39m \u001b[1mColumn specification\u001b[22m \u001b[36m────────────────────────────────────────────────────────\u001b[39m\n",
      "\u001b[1mDelimiter:\u001b[22m \",\"\n",
      "\u001b[31mchr\u001b[39m  (1): Class\n",
      "\u001b[32mdbl\u001b[39m (50): _RMSenergy_Mean, _Lowenergy_Mean, _Fluctuation_Mean, _Tempo_Mean, ...\n",
      "\n",
      "\u001b[36mℹ\u001b[39m Use `spec()` to retrieve the full column specification for this data.\n",
      "\u001b[36mℹ\u001b[39m Specify the column types or set `show_col_types = FALSE` to quiet this message.\n"
     ]
    },
    {
     "data": {
      "text/html": [
       "<table class=\"dataframe\">\n",
       "<caption>A tibble: 6 × 51</caption>\n",
       "<thead>\n",
       "\t<tr><th scope=col>Class</th><th scope=col>RMS_Energy_Mean</th><th scope=col>Low_Energy_Mean</th><th scope=col>Fluctuation_Mean</th><th scope=col>Tempo_Mean</th><th scope=col>MFCC_Mean1</th><th scope=col>MFCC_Mean2</th><th scope=col>MFCC_Mean3</th><th scope=col>MFCC_Mean4</th><th scope=col>MFCC_Mean5</th><th scope=col>⋯</th><th scope=col>Chromagram_Mean9</th><th scope=col>Chromagram_Mean10</th><th scope=col>Chromagram_Mean11</th><th scope=col>Chromagram_Mean12</th><th scope=col>Harmonic_Change_Detection_Function_Mean</th><th scope=col>Harmonic_Change_Detection_Function_Std</th><th scope=col>Harmonic_Change_Detection_Function_Slope</th><th scope=col>Harmonic_Change_Detection_Function_Period_Freq</th><th scope=col>Harmonic_Change_Detection_Function_Period_Amp</th><th scope=col>Harmonic_Change_Detection_Function_Period_Entropy</th></tr>\n",
       "\t<tr><th scope=col>&lt;fct&gt;</th><th scope=col>&lt;dbl&gt;</th><th scope=col>&lt;dbl&gt;</th><th scope=col>&lt;dbl&gt;</th><th scope=col>&lt;dbl&gt;</th><th scope=col>&lt;dbl&gt;</th><th scope=col>&lt;dbl&gt;</th><th scope=col>&lt;dbl&gt;</th><th scope=col>&lt;dbl&gt;</th><th scope=col>&lt;dbl&gt;</th><th scope=col>⋯</th><th scope=col>&lt;dbl&gt;</th><th scope=col>&lt;dbl&gt;</th><th scope=col>&lt;dbl&gt;</th><th scope=col>&lt;dbl&gt;</th><th scope=col>&lt;dbl&gt;</th><th scope=col>&lt;dbl&gt;</th><th scope=col>&lt;dbl&gt;</th><th scope=col>&lt;dbl&gt;</th><th scope=col>&lt;dbl&gt;</th><th scope=col>&lt;dbl&gt;</th></tr>\n",
       "</thead>\n",
       "<tbody>\n",
       "\t<tr><td>relax</td><td>0.052</td><td>0.591</td><td> 9.136</td><td>130.043</td><td>3.997</td><td> 0.363</td><td>0.887</td><td>0.078</td><td> 0.221</td><td>⋯</td><td>0.426</td><td>1.000</td><td>0.008</td><td>0.101</td><td>0.316</td><td>0.261</td><td> 0.018</td><td>1.035</td><td>0.593</td><td>0.970</td></tr>\n",
       "\t<tr><td>relax</td><td>0.125</td><td>0.439</td><td> 6.680</td><td>142.240</td><td>4.058</td><td> 0.516</td><td>0.785</td><td>0.397</td><td> 0.556</td><td>⋯</td><td>0.002</td><td>1.000</td><td>0.000</td><td>0.984</td><td>0.285</td><td>0.211</td><td>-0.082</td><td>3.364</td><td>0.702</td><td>0.967</td></tr>\n",
       "\t<tr><td>relax</td><td>0.046</td><td>0.639</td><td>10.578</td><td>188.154</td><td>2.775</td><td> 0.903</td><td>0.502</td><td>0.329</td><td> 0.287</td><td>⋯</td><td>0.184</td><td>0.746</td><td>0.016</td><td>1.000</td><td>0.413</td><td>0.299</td><td> 0.134</td><td>1.682</td><td>0.692</td><td>0.963</td></tr>\n",
       "\t<tr><td>relax</td><td>0.135</td><td>0.603</td><td>10.442</td><td> 65.991</td><td>2.841</td><td> 1.552</td><td>0.612</td><td>0.351</td><td> 0.011</td><td>⋯</td><td>0.038</td><td>1.000</td><td>0.161</td><td>0.757</td><td>0.422</td><td>0.265</td><td> 0.042</td><td>0.354</td><td>0.743</td><td>0.968</td></tr>\n",
       "\t<tr><td>relax</td><td>0.066</td><td>0.591</td><td> 9.769</td><td> 88.890</td><td>3.217</td><td> 0.228</td><td>0.814</td><td>0.096</td><td> 0.434</td><td>⋯</td><td>0.004</td><td>0.404</td><td>1.000</td><td>0.001</td><td>0.345</td><td>0.261</td><td> 0.089</td><td>0.748</td><td>0.674</td><td>0.957</td></tr>\n",
       "\t<tr><td>relax</td><td>0.137</td><td>0.510</td><td> 7.664</td><td>116.044</td><td>2.313</td><td>-0.082</td><td>0.365</td><td>0.033</td><td>-0.136</td><td>⋯</td><td>0.064</td><td>0.391</td><td>0.102</td><td>0.000</td><td>0.280</td><td>0.240</td><td> 0.355</td><td>1.682</td><td>0.662</td><td>0.958</td></tr>\n",
       "</tbody>\n",
       "</table>\n"
      ],
      "text/latex": [
       "A tibble: 6 × 51\n",
       "\\begin{tabular}{lllllllllllllllllllll}\n",
       " Class & RMS\\_Energy\\_Mean & Low\\_Energy\\_Mean & Fluctuation\\_Mean & Tempo\\_Mean & MFCC\\_Mean1 & MFCC\\_Mean2 & MFCC\\_Mean3 & MFCC\\_Mean4 & MFCC\\_Mean5 & ⋯ & Chromagram\\_Mean9 & Chromagram\\_Mean10 & Chromagram\\_Mean11 & Chromagram\\_Mean12 & Harmonic\\_Change\\_Detection\\_Function\\_Mean & Harmonic\\_Change\\_Detection\\_Function\\_Std & Harmonic\\_Change\\_Detection\\_Function\\_Slope & Harmonic\\_Change\\_Detection\\_Function\\_Period\\_Freq & Harmonic\\_Change\\_Detection\\_Function\\_Period\\_Amp & Harmonic\\_Change\\_Detection\\_Function\\_Period\\_Entropy\\\\\n",
       " <fct> & <dbl> & <dbl> & <dbl> & <dbl> & <dbl> & <dbl> & <dbl> & <dbl> & <dbl> & ⋯ & <dbl> & <dbl> & <dbl> & <dbl> & <dbl> & <dbl> & <dbl> & <dbl> & <dbl> & <dbl>\\\\\n",
       "\\hline\n",
       "\t relax & 0.052 & 0.591 &  9.136 & 130.043 & 3.997 &  0.363 & 0.887 & 0.078 &  0.221 & ⋯ & 0.426 & 1.000 & 0.008 & 0.101 & 0.316 & 0.261 &  0.018 & 1.035 & 0.593 & 0.970\\\\\n",
       "\t relax & 0.125 & 0.439 &  6.680 & 142.240 & 4.058 &  0.516 & 0.785 & 0.397 &  0.556 & ⋯ & 0.002 & 1.000 & 0.000 & 0.984 & 0.285 & 0.211 & -0.082 & 3.364 & 0.702 & 0.967\\\\\n",
       "\t relax & 0.046 & 0.639 & 10.578 & 188.154 & 2.775 &  0.903 & 0.502 & 0.329 &  0.287 & ⋯ & 0.184 & 0.746 & 0.016 & 1.000 & 0.413 & 0.299 &  0.134 & 1.682 & 0.692 & 0.963\\\\\n",
       "\t relax & 0.135 & 0.603 & 10.442 &  65.991 & 2.841 &  1.552 & 0.612 & 0.351 &  0.011 & ⋯ & 0.038 & 1.000 & 0.161 & 0.757 & 0.422 & 0.265 &  0.042 & 0.354 & 0.743 & 0.968\\\\\n",
       "\t relax & 0.066 & 0.591 &  9.769 &  88.890 & 3.217 &  0.228 & 0.814 & 0.096 &  0.434 & ⋯ & 0.004 & 0.404 & 1.000 & 0.001 & 0.345 & 0.261 &  0.089 & 0.748 & 0.674 & 0.957\\\\\n",
       "\t relax & 0.137 & 0.510 &  7.664 & 116.044 & 2.313 & -0.082 & 0.365 & 0.033 & -0.136 & ⋯ & 0.064 & 0.391 & 0.102 & 0.000 & 0.280 & 0.240 &  0.355 & 1.682 & 0.662 & 0.958\\\\\n",
       "\\end{tabular}\n"
      ],
      "text/markdown": [
       "\n",
       "A tibble: 6 × 51\n",
       "\n",
       "| Class &lt;fct&gt; | RMS_Energy_Mean &lt;dbl&gt; | Low_Energy_Mean &lt;dbl&gt; | Fluctuation_Mean &lt;dbl&gt; | Tempo_Mean &lt;dbl&gt; | MFCC_Mean1 &lt;dbl&gt; | MFCC_Mean2 &lt;dbl&gt; | MFCC_Mean3 &lt;dbl&gt; | MFCC_Mean4 &lt;dbl&gt; | MFCC_Mean5 &lt;dbl&gt; | ⋯ ⋯ | Chromagram_Mean9 &lt;dbl&gt; | Chromagram_Mean10 &lt;dbl&gt; | Chromagram_Mean11 &lt;dbl&gt; | Chromagram_Mean12 &lt;dbl&gt; | Harmonic_Change_Detection_Function_Mean &lt;dbl&gt; | Harmonic_Change_Detection_Function_Std &lt;dbl&gt; | Harmonic_Change_Detection_Function_Slope &lt;dbl&gt; | Harmonic_Change_Detection_Function_Period_Freq &lt;dbl&gt; | Harmonic_Change_Detection_Function_Period_Amp &lt;dbl&gt; | Harmonic_Change_Detection_Function_Period_Entropy &lt;dbl&gt; |\n",
       "|---|---|---|---|---|---|---|---|---|---|---|---|---|---|---|---|---|---|---|---|---|\n",
       "| relax | 0.052 | 0.591 |  9.136 | 130.043 | 3.997 |  0.363 | 0.887 | 0.078 |  0.221 | ⋯ | 0.426 | 1.000 | 0.008 | 0.101 | 0.316 | 0.261 |  0.018 | 1.035 | 0.593 | 0.970 |\n",
       "| relax | 0.125 | 0.439 |  6.680 | 142.240 | 4.058 |  0.516 | 0.785 | 0.397 |  0.556 | ⋯ | 0.002 | 1.000 | 0.000 | 0.984 | 0.285 | 0.211 | -0.082 | 3.364 | 0.702 | 0.967 |\n",
       "| relax | 0.046 | 0.639 | 10.578 | 188.154 | 2.775 |  0.903 | 0.502 | 0.329 |  0.287 | ⋯ | 0.184 | 0.746 | 0.016 | 1.000 | 0.413 | 0.299 |  0.134 | 1.682 | 0.692 | 0.963 |\n",
       "| relax | 0.135 | 0.603 | 10.442 |  65.991 | 2.841 |  1.552 | 0.612 | 0.351 |  0.011 | ⋯ | 0.038 | 1.000 | 0.161 | 0.757 | 0.422 | 0.265 |  0.042 | 0.354 | 0.743 | 0.968 |\n",
       "| relax | 0.066 | 0.591 |  9.769 |  88.890 | 3.217 |  0.228 | 0.814 | 0.096 |  0.434 | ⋯ | 0.004 | 0.404 | 1.000 | 0.001 | 0.345 | 0.261 |  0.089 | 0.748 | 0.674 | 0.957 |\n",
       "| relax | 0.137 | 0.510 |  7.664 | 116.044 | 2.313 | -0.082 | 0.365 | 0.033 | -0.136 | ⋯ | 0.064 | 0.391 | 0.102 | 0.000 | 0.280 | 0.240 |  0.355 | 1.682 | 0.662 | 0.958 |\n",
       "\n"
      ],
      "text/plain": [
       "  Class RMS_Energy_Mean Low_Energy_Mean Fluctuation_Mean Tempo_Mean MFCC_Mean1\n",
       "1 relax 0.052           0.591            9.136           130.043    3.997     \n",
       "2 relax 0.125           0.439            6.680           142.240    4.058     \n",
       "3 relax 0.046           0.639           10.578           188.154    2.775     \n",
       "4 relax 0.135           0.603           10.442            65.991    2.841     \n",
       "5 relax 0.066           0.591            9.769            88.890    3.217     \n",
       "6 relax 0.137           0.510            7.664           116.044    2.313     \n",
       "  MFCC_Mean2 MFCC_Mean3 MFCC_Mean4 MFCC_Mean5 ⋯ Chromagram_Mean9\n",
       "1  0.363     0.887      0.078       0.221     ⋯ 0.426           \n",
       "2  0.516     0.785      0.397       0.556     ⋯ 0.002           \n",
       "3  0.903     0.502      0.329       0.287     ⋯ 0.184           \n",
       "4  1.552     0.612      0.351       0.011     ⋯ 0.038           \n",
       "5  0.228     0.814      0.096       0.434     ⋯ 0.004           \n",
       "6 -0.082     0.365      0.033      -0.136     ⋯ 0.064           \n",
       "  Chromagram_Mean10 Chromagram_Mean11 Chromagram_Mean12\n",
       "1 1.000             0.008             0.101            \n",
       "2 1.000             0.000             0.984            \n",
       "3 0.746             0.016             1.000            \n",
       "4 1.000             0.161             0.757            \n",
       "5 0.404             1.000             0.001            \n",
       "6 0.391             0.102             0.000            \n",
       "  Harmonic_Change_Detection_Function_Mean\n",
       "1 0.316                                  \n",
       "2 0.285                                  \n",
       "3 0.413                                  \n",
       "4 0.422                                  \n",
       "5 0.345                                  \n",
       "6 0.280                                  \n",
       "  Harmonic_Change_Detection_Function_Std\n",
       "1 0.261                                 \n",
       "2 0.211                                 \n",
       "3 0.299                                 \n",
       "4 0.265                                 \n",
       "5 0.261                                 \n",
       "6 0.240                                 \n",
       "  Harmonic_Change_Detection_Function_Slope\n",
       "1  0.018                                  \n",
       "2 -0.082                                  \n",
       "3  0.134                                  \n",
       "4  0.042                                  \n",
       "5  0.089                                  \n",
       "6  0.355                                  \n",
       "  Harmonic_Change_Detection_Function_Period_Freq\n",
       "1 1.035                                         \n",
       "2 3.364                                         \n",
       "3 1.682                                         \n",
       "4 0.354                                         \n",
       "5 0.748                                         \n",
       "6 1.682                                         \n",
       "  Harmonic_Change_Detection_Function_Period_Amp\n",
       "1 0.593                                        \n",
       "2 0.702                                        \n",
       "3 0.692                                        \n",
       "4 0.743                                        \n",
       "5 0.674                                        \n",
       "6 0.662                                        \n",
       "  Harmonic_Change_Detection_Function_Period_Entropy\n",
       "1 0.970                                            \n",
       "2 0.967                                            \n",
       "3 0.963                                            \n",
       "4 0.968                                            \n",
       "5 0.957                                            \n",
       "6 0.958                                            "
      ]
     },
     "metadata": {},
     "output_type": "display_data"
    },
    {
     "data": {
      "text/html": [
       "<table class=\"dataframe\">\n",
       "<caption>A tibble: 4 × 2</caption>\n",
       "<thead>\n",
       "\t<tr><th scope=col>Class</th><th scope=col>count</th></tr>\n",
       "\t<tr><th scope=col>&lt;fct&gt;</th><th scope=col>&lt;int&gt;</th></tr>\n",
       "</thead>\n",
       "<tbody>\n",
       "\t<tr><td>relax</td><td>100</td></tr>\n",
       "\t<tr><td>happy</td><td>100</td></tr>\n",
       "\t<tr><td>sad  </td><td>100</td></tr>\n",
       "\t<tr><td>angry</td><td>100</td></tr>\n",
       "</tbody>\n",
       "</table>\n"
      ],
      "text/latex": [
       "A tibble: 4 × 2\n",
       "\\begin{tabular}{ll}\n",
       " Class & count\\\\\n",
       " <fct> & <int>\\\\\n",
       "\\hline\n",
       "\t relax & 100\\\\\n",
       "\t happy & 100\\\\\n",
       "\t sad   & 100\\\\\n",
       "\t angry & 100\\\\\n",
       "\\end{tabular}\n"
      ],
      "text/markdown": [
       "\n",
       "A tibble: 4 × 2\n",
       "\n",
       "| Class &lt;fct&gt; | count &lt;int&gt; |\n",
       "|---|---|\n",
       "| relax | 100 |\n",
       "| happy | 100 |\n",
       "| sad   | 100 |\n",
       "| angry | 100 |\n",
       "\n"
      ],
      "text/plain": [
       "  Class count\n",
       "1 relax 100  \n",
       "2 happy 100  \n",
       "3 sad   100  \n",
       "4 angry 100  "
      ]
     },
     "metadata": {},
     "output_type": "display_data"
    }
   ],
   "source": [
    "turkish_data <- read_csv(\"https://archive.ics.uci.edu/ml/machine-learning-databases/00638/Acoustic%20Features.csv\")\n",
    "colnames(turkish_data) <- c(\"Class\", \"RMS_Energy_Mean\", \"Low_Energy_Mean\", \"Fluctuation_Mean\", \"Tempo_Mean\", \n",
    "                            \"MFCC_Mean1\", \"MFCC_Mean2\", \"MFCC_Mean3\", \"MFCC_Mean4\", \"MFCC_Mean5\", \"MFCC_Mean6\",\n",
    "                            \"MFCC_Mean7\", \"MFCC_Mean8\", \"MFCC_Mean9\", \"MFCC_Mean10\", \"MFCC_Mean11\", \"MFCC_Mean12\",\n",
    "                            \"MFCC_Mean13\", \"Roughness_Mean\", \"Roughness_Slope\", \"Zero_Crossing_Rate_Mean\",\n",
    "                            \"Attack_Time_Mean\", \"Attack_Time_Slope\", \"Roll_Off_Mean\", \"Event_Density_Mean\", \"Pulse_Clarity_Mean\",\n",
    "                            \"Brightness_Mean\", \"Spectral_Centroid_Mean\", \"Spectral_Spread_Mean\", \"Spectral_Skewness_Mean\",\n",
    "                            \"Spectral_Kurtosis_Mean\", \"Spectral_Flatness_Mean\", \"Entropy_of_Spectrum_Mean\", \"Chromagram_Mean1\",\n",
    "                            \"Chromagram_Mean2\", \"Chromagram_Mean3\", \"Chromagram_Mean4\", \"Chromagram_Mean5\", \"Chromagram_Mean6\",\n",
    "                            \"Chromagram_Mean7\", \"Chromagram_Mean8\", \"Chromagram_Mean9\", \"Chromagram_Mean10\", \"Chromagram_Mean11\",\n",
    "                            \"Chromagram_Mean12\", \"Harmonic_Change_Detection_Function_Mean\", \"Harmonic_Change_Detection_Function_Std\",\n",
    "                            \"Harmonic_Change_Detection_Function_Slope\", \"Harmonic_Change_Detection_Function_Period_Freq\", \n",
    "                            \"Harmonic_Change_Detection_Function_Period_Amp\", \"Harmonic_Change_Detection_Function_Period_Entropy\")\n",
    "turkish_data <- mutate(turkish_data, Class = as_factor(Class))\n",
    "head(turkish_data)\n",
    "check_amounts <- turkish_data |>\n",
    "    group_by(Class) |>\n",
    "    summarise(count = n())\n",
    "check_amounts"
   ]
  },
  {
   "cell_type": "code",
   "execution_count": 3,
   "id": "d4b2a84f-f10e-4792-a6cb-d0fc4bf8acc3",
   "metadata": {},
   "outputs": [],
   "source": [
    "set.seed(6969)\n",
    "\n",
    "turkish_split <- initial_split(turkish_data, prop = 0.8, strata = Class)\n",
    "turkish_training <- training(turkish_split)\n",
    "turkish_testing <- training(turkish_split)"
   ]
  },
  {
   "cell_type": "markdown",
   "id": "68f96db4-f691-4223-9313-ea03f1a24893",
   "metadata": {},
   "source": [
    "**CROSS VALIDATION**"
   ]
  },
  {
   "cell_type": "code",
   "execution_count": 4,
   "id": "de00718c-23fd-4639-b280-823c2408f452",
   "metadata": {},
   "outputs": [],
   "source": [
    "set.seed(6969)\n",
    "\n",
    "turkish_tune <- nearest_neighbor(weight_func = \"rectangular\", neighbors = tune()) |>\n",
    "    set_engine(\"kknn\") |>\n",
    "    set_mode(\"classification\")\n",
    "\n",
    "turkish_recipe <- recipe(Class ~ Low_Energy_Mean + Zero_Crossing_Rate_Mean + Attack_Time_Mean + \n",
    "                         Pulse_Clarity_Mean + Spectral_Spread_Mean + Harmonic_Change_Detection_Function_Mean,\n",
    "                         data = turkish_training) |>\n",
    "    step_scale(all_predictors()) |>\n",
    "    step_center(all_predictors())\n",
    "\n",
    "turkish_vfold <- vfold_cv(turkish_training, v = 8, strata = Class)\n",
    "\n",
    "gridvals <- tibble(neighbors = seq(from = 1, to = 80, by = 1))\n",
    "\n",
    "k_min <- workflow() |>\n",
    "    add_recipe(turkish_recipe) |>\n",
    "    add_model(turkish_tune) |>\n",
    "    tune_grid(resamples = turkish_vfold, grid = gridvals) |>\n",
    "    collect_metrics() |>\n",
    "    filter(.metric == \"accuracy\") |>\n",
    "    arrange(desc(mean)) |>\n",
    "    slice(1) |>\n",
    "    select(neighbors) |>\n",
    "    pull()"
   ]
  },
  {
   "cell_type": "markdown",
   "id": "e22fc0fe-675f-4185-b33c-7ed5554bdd06",
   "metadata": {},
   "source": [
    "**PRE-MODEL BUILDING**"
   ]
  },
  {
   "cell_type": "code",
   "execution_count": 5,
   "id": "7aef8028-7914-426c-9a3d-ab4834db5174",
   "metadata": {},
   "outputs": [
    {
     "data": {
      "text/html": [
       "4"
      ],
      "text/latex": [
       "4"
      ],
      "text/markdown": [
       "4"
      ],
      "text/plain": [
       "[1] 4"
      ]
     },
     "metadata": {},
     "output_type": "display_data"
    },
    {
     "data": {
      "text/html": [
       "<table class=\"dataframe\">\n",
       "<caption>A tibble: 1 × 3</caption>\n",
       "<thead>\n",
       "\t<tr><th scope=col>.metric</th><th scope=col>.estimator</th><th scope=col>.estimate</th></tr>\n",
       "\t<tr><th scope=col>&lt;chr&gt;</th><th scope=col>&lt;chr&gt;</th><th scope=col>&lt;dbl&gt;</th></tr>\n",
       "</thead>\n",
       "<tbody>\n",
       "\t<tr><td>accuracy</td><td>multiclass</td><td>0.875</td></tr>\n",
       "</tbody>\n",
       "</table>\n"
      ],
      "text/latex": [
       "A tibble: 1 × 3\n",
       "\\begin{tabular}{lll}\n",
       " .metric & .estimator & .estimate\\\\\n",
       " <chr> & <chr> & <dbl>\\\\\n",
       "\\hline\n",
       "\t accuracy & multiclass & 0.875\\\\\n",
       "\\end{tabular}\n"
      ],
      "text/markdown": [
       "\n",
       "A tibble: 1 × 3\n",
       "\n",
       "| .metric &lt;chr&gt; | .estimator &lt;chr&gt; | .estimate &lt;dbl&gt; |\n",
       "|---|---|---|\n",
       "| accuracy | multiclass | 0.875 |\n",
       "\n"
      ],
      "text/plain": [
       "  .metric  .estimator .estimate\n",
       "1 accuracy multiclass 0.875    "
      ]
     },
     "metadata": {},
     "output_type": "display_data"
    },
    {
     "data": {
      "text/plain": [
       "          Truth\n",
       "Prediction relax happy sad angry\n",
       "     relax    70     2  11     2\n",
       "     happy     1    76   2     1\n",
       "     sad       6     2  62     5\n",
       "     angry     3     0   5    72"
      ]
     },
     "metadata": {},
     "output_type": "display_data"
    }
   ],
   "source": [
    "set.seed(6969)\n",
    "\n",
    "knn_spec <- nearest_neighbor(weight_func = \"rectangular\", neighbors = k_min) |>\n",
    "    set_engine(\"kknn\") |>\n",
    "    set_mode(\"classification\")\n",
    "\n",
    "turkish_fit <- workflow() |>\n",
    "    add_recipe(turkish_recipe) |>\n",
    "    add_model(knn_spec) |>\n",
    "    fit(data = turkish_training)\n",
    "\n",
    "turkish_predictions <- predict(turkish_fit, turkish_testing) |>\n",
    "    bind_cols(turkish_testing)\n",
    "\n",
    "turkish_accuracy <- turkish_predictions |>\n",
    "    metrics(truth = Class, estimate = .pred_class) |>\n",
    "    filter(.metric == \"accuracy\")\n",
    "\n",
    "turkish_mat <- turkish_predictions |>\n",
    "    conf_mat(truth = Class, estimate = .pred_class)\n",
    "\n",
    "k_min\n",
    "turkish_accuracy\n",
    "turkish_mat"
   ]
  },
  {
   "cell_type": "markdown",
   "id": "0b0450cc-4029-4156-961e-445992e56f5b",
   "metadata": {},
   "source": [
    "**TALK ABOUT THE MODEL**"
   ]
  },
  {
   "cell_type": "code",
   "execution_count": null,
   "id": "9852a6c8-6c26-405e-a6bf-4ff3c8ceb5a4",
   "metadata": {},
   "outputs": [],
   "source": []
  },
  {
   "cell_type": "markdown",
   "id": "33a40aba-166b-4883-8ff7-8fc4b714ce49",
   "metadata": {},
   "source": [
    "**GRAPH EXPLINATION AND CONCLUSION**"
   ]
  }
 ],
 "metadata": {
  "kernelspec": {
   "display_name": "R",
   "language": "R",
   "name": "ir"
  },
  "language_info": {
   "codemirror_mode": "r",
   "file_extension": ".r",
   "mimetype": "text/x-r-source",
   "name": "R",
   "pygments_lexer": "r",
   "version": "4.1.3"
  }
 },
 "nbformat": 4,
 "nbformat_minor": 5
}
